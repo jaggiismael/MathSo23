{
 "cells": [
  {
   "attachments": {},
   "cell_type": "markdown",
   "metadata": {},
   "source": [
    "# Spread of an infectious disease\n",
    "<font color='red'>Start your report with a general introduction to the topic.</font>\n",
    "\n",
    "In the following, we will first explain the meaning of each variable. Then we will take a closer look at all the functions used to simulate the spreading. Next, we will explain how we have animated the simulation and finally we will show examples of how the simulation can be used properly.\n",
    "\n",
    "Explanation of the variable names:\n",
    "\n",
    "    c:              Choice of the user which simulations he wants\n",
    "    n:              Number of rows in the dormitory\n",
    "    m:              Number of columns in the dormitory\n",
    "    initial_bed:    Row and column of the initial bed with the disease\n",
    "    p:              Probability of an infection, between 0 and 1\n",
    "    k:              Duration of the illness in days\n",
    "    repetitions:    The number of days you want to simulate\n",
    "    v:              Number of people vaccinated per day\n",
    "    bs:             Number of beds swapped per day\n",
    "    incu:           Duration of the incubation period in days "
   ]
  },
  {
   "cell_type": "code",
   "execution_count": 3,
   "metadata": {},
   "outputs": [],
   "source": [
    "import numpy as np"
   ]
  }
 ],
 "metadata": {
  "kernelspec": {
   "display_name": "MySoft",
   "language": "python",
   "name": "python3"
  },
  "language_info": {
   "codemirror_mode": {
    "name": "ipython",
    "version": 3
   },
   "file_extension": ".py",
   "mimetype": "text/x-python",
   "name": "python",
   "nbconvert_exporter": "python",
   "pygments_lexer": "ipython3",
   "version": "3.11.2"
  },
  "orig_nbformat": 4
 },
 "nbformat": 4,
 "nbformat_minor": 2
}
