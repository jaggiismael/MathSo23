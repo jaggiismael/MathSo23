{
 "cells": [
  {
   "attachments": {},
   "cell_type": "markdown",
   "metadata": {},
   "source": [
    "# Spread of an infectious disease\n",
    "In our project, we are looking at the spread of a contagious disease in an enclosed space. In this room there are a predefined number of beds with patients in them. First, a patient is infected. The patient can infect the other patients on each side of his bed. Now it can be simulated over an arbitrary period of time how the disease spreads. It is possible to change the conditions of spreading with the help of different parameters. Among other things, the size of the room, the probability of infection or the bed of the first infected person can be changed. It is also possible to include other things in the simulation. For example, it is possible to vaccinate patients or move beds every day. In the following we will go into more detail about each part of the program and at the end we will show some examples of its use.\n",
    "In the following, we will first explain the meaning of each variable. Then we will take a closer look at all the functions used to simulate the spreading. Next, we will explain how we have animated the simulation and finally we will show examples of how the simulation can be used properly.\n",
    "\n",
    "Explanation of the variable names:\n",
    "\n",
    "    c:              Choice of the user which simulations he wants\n",
    "    n:              Number of rows in the dormitory\n",
    "    m:              Number of columns in the dormitory\n",
    "    initial_bed:    Row and column of the initial bed with the disease\n",
    "    p:              Probability of an infection, between 0 and 1\n",
    "    k:              Duration of the illness in days\n",
    "    repetitions:    The number of days you want to simulate\n",
    "    v:              Number of people vaccinated per day\n",
    "    bs:             Number of beds swapped per day\n",
    "    incu:           Duration of the incubation period in days "
   ]
  },
  {
   "attachments": {},
   "cell_type": "markdown",
   "metadata": {},
   "source": [
    "## Cellular Automata\n",
    "In this section we will take a closer look at the different functions we use to simulate the spreading. \n",
    "Each field in the grid can have a different value indicating the current status. The following statuses are used:\n",
    "\n",
    "    0:          Healthy\n",
    "    1:          Healed\n",
    "    -1:         Vaccinated\n",
    "    > 1:        Sick\n",
    "    > 1 + k:    Sick but not infectious (Incubation period)\n",
    "\n",
    "\n",
    "First we initialize the grid and the desired size and set all fields to 0. Then we set the desired initial bed to sick and return the new grid."
   ]
  },
  {
   "cell_type": "code",
   "execution_count": 1,
   "metadata": {},
   "outputs": [],
   "source": [
    "import numpy as np\n",
    "import random\n",
    "\n",
    "def initialize_grid(n, m, initial_bed, k, incu):\n",
    "    grid = np.zeros((n, m))\n",
    "    row, col = initial_bed\n",
    "    grid[row, col] = 1+k+incu\n",
    "    return grid"
   ]
  },
  {
   "attachments": {},
   "cell_type": "markdown",
   "metadata": {},
   "source": [
    "Next we have a function to find and return all neighbors of a bed. (top, bottom, left, right)"
   ]
  },
  {
   "cell_type": "code",
   "execution_count": 10,
   "metadata": {},
   "outputs": [],
   "source": [
    "def get_neighbors(grid, row, col):\n",
    "    n, m = grid.shape\n",
    "    neighbors = []\n",
    "    if row > 0:\n",
    "        neighbors.append((row - 1, col))  # Top neighbor\n",
    "    if row < n - 1:\n",
    "        neighbors.append((row + 1, col))  # Bottom neighbor\n",
    "    if col > 0:\n",
    "        neighbors.append((row, col - 1))  # Left neighbor\n",
    "    if col < m - 1:\n",
    "        neighbors.append((row, col + 1))  # Right neighbor\n",
    "    return neighbors"
   ]
  },
  {
   "attachments": {},
   "cell_type": "markdown",
   "metadata": {},
   "source": [
    "Now we start with the normal method to simulate the spread on one day. We show the evolution of this function and will add more features to the function with each step. As parameters we get the old grid, the probability of infection and the duration of the disease.\n",
    "First we ask for the size of the grid and make a copy. Then we go through each field individually using two for loops. Then we check if the current field is sick (value greater than 1), if yes we subtract one sick day and search for all neighbors. For each neighbor it is checked if it is still healthy (value is 0) and then a random number is generated. If the neighbor is healthy and the generated number is greater than the value p, the neighbor is infected (value 1 + duration of the disease). Finally the new grid is returned."
   ]
  },
  {
   "cell_type": "code",
   "execution_count": 11,
   "metadata": {},
   "outputs": [],
   "source": [
    "def simulate_spread_basic(grid, p, k):\n",
    "    n, m = grid.shape\n",
    "    new_grid = np.copy(grid)\n",
    "    for i in range(n):\n",
    "        for j in range(m):\n",
    "            if grid[i, j] > 1:  # Check if the bed is infected or already recovered\n",
    "                new_grid[i,j] -= 1               \n",
    "                for neighbor in get_neighbors(grid, i, j):\n",
    "                    if grid[neighbor] == 0 and random.rand() < p:\n",
    "                        new_grid[neighbor] = 1+k #set the neighbor ill                \n",
    "    return new_grid"
   ]
  },
  {
   "attachments": {},
   "cell_type": "markdown",
   "metadata": {},
   "source": [
    "Now we will add a function that can vaccinate a certain number of healthy people every day. After a vaccination, the respective bed can no longer be infected. The function has two parameters, the number of people to vaccinate and the grid. \n",
    "A while loop is used to generate random numbers and try to vaccinate them. When enough vaccinations have been distributed, the new grid is returned."
   ]
  },
  {
   "cell_type": "code",
   "execution_count": 18,
   "metadata": {},
   "outputs": [],
   "source": [
    "def vaccinate(v, new_grid):\n",
    "    n, m = new_grid.shape\n",
    "    vaccinated = 0\n",
    "    while(vaccinated < v):\n",
    "        randi = random.randint(0,n-1)\n",
    "        randj = random.randint(0, m-1)\n",
    "        if new_grid[randi, randj] == 0:\n",
    "            new_grid[randi, randj] = -1\n",
    "            vaccinated += 1\n",
    "\n",
    "    return new_grid"
   ]
  },
  {
   "attachments": {},
   "cell_type": "markdown",
   "metadata": {},
   "source": [
    "Now we will add a function that will swap a certain number of beds with each other every day. The function has two parameters, the number of beds to swap and the grid. \n",
    "A While loop is used to generate random numbers to select two beds. Then the values of the two beds are exchanged. When enough beds have been swapped, the new grid is returned."
   ]
  },
  {
   "cell_type": "code",
   "execution_count": 13,
   "metadata": {},
   "outputs": [],
   "source": [
    "def bed_swap(bs, new_grid):\n",
    "    n, m = new_grid.shape\n",
    "    bedsSwaped = 0\n",
    "    while(bedsSwaped < bs):\n",
    "        randi1 = random.randint(0,n-1)\n",
    "        randj1 = random.randint(0, m-1)\n",
    "        randi2 = random.randint(0,n-1)\n",
    "        randj2 = random.randint(0, m-1)\n",
    "        tmpVal = new_grid[randi1, randj1]\n",
    "        new_grid[randi1, randj1] = new_grid[randi2, randj2]\n",
    "        new_grid[randi2, randj2] = tmpVal\n",
    "        bedsSwaped += 1\n",
    "\n",
    "    return new_grid"
   ]
  },
  {
   "attachments": {},
   "cell_type": "markdown",
   "metadata": {},
   "source": [
    "### Final Function\n",
    "In the final function a parameter is added (incu = The incubation period). The first part of the function remains almost unchanged, with the difference that now it is counted how many healthy beds are left. In addition, before the neighbors of a sick bed can be infected, it is checked if the incubation period is over and if a bed is infected, the incubation period is also added to the value.\n",
    "Then a check is made to see if there are enough healthy beds left to vaccinate. If not, the value of the beds to be vaccinated is decreased.\n",
    "Then, if necessary, the two functions to vaccinate and swap beds are called and finally the new grid is returned."
   ]
  },
  {
   "cell_type": "code",
   "execution_count": 14,
   "metadata": {},
   "outputs": [],
   "source": [
    "def simulate_spread(grid, p, k, v, bs, incu):\n",
    "    n, m = grid.shape\n",
    "    uninfectedBeds = 0\n",
    "    new_grid = np.copy(grid)\n",
    "    for i in range(n):\n",
    "        for j in range(m):\n",
    "            if grid[i, j] == 0:\n",
    "                uninfectedBeds += 1\n",
    "            if grid[i, j] > 1:  # Check if the bed is infected or already recovered\n",
    "                new_grid[i,j] -= 1               \n",
    "                for neighbor in get_neighbors(grid, i, j):\n",
    "                    if new_grid[i,j] <= 1+k:        #check if incubation time is over\n",
    "                        if grid[neighbor] == 0 and random.rand() < p:\n",
    "                            new_grid[neighbor] = 1+k+incu #set the neighbor ill  \n",
    "                            uninfectedBeds -= 1 \n",
    "    \n",
    "    if uninfectedBeds < v:\n",
    "        v = uninfectedBeds\n",
    "\n",
    "    if v > 0:\n",
    "        new_grid = vaccinate(v, new_grid)\n",
    "\n",
    "    if bs > 0:\n",
    "        new_grid = bed_swap(bs, new_grid)\n",
    "    \n",
    "    return new_grid\n"
   ]
  },
  {
   "attachments": {},
   "cell_type": "markdown",
   "metadata": {},
   "source": [
    "## Animation"
   ]
  },
  {
   "attachments": {},
   "cell_type": "markdown",
   "metadata": {},
   "source": [
    "## User Input\n",
    "In this section we show the user input and the main method. The following five functions are pure user input and therefore we will not explain them in detail. The first function lets the user decide whether to simulate the normal spreading or to use the additional options. The second one asks for all the parameters that are always needed and the last three are called if you want to set the other options as well. "
   ]
  },
  {
   "cell_type": "code",
   "execution_count": 16,
   "metadata": {},
   "outputs": [],
   "source": [
    "def get_user_choice():\n",
    "    c = int(input(\"Enter the number of your choice:\\n1: Normal Execute\\n2: Add Vaccination\\n3: Add Bed Swap\\n4: Add Incubation Period \"))\n",
    "    return c\n",
    "\n",
    "def get_user_input():\n",
    "    n = int(input(\"Enter the number of rows in the dormitory: \"))\n",
    "    m = int(input(\"Enter the number of columns in the dormitory: \"))\n",
    "    initial_bed = input(\"Enter the initial infected bed position (in the format 'row,column'): \")\n",
    "    initial_bed = tuple(map(int, initial_bed.split(',')))\n",
    "    p = float(input(\"Enter the probability of infection (0 < p < 1): \"))\n",
    "    k = int(input(\"Enter the duration of the disease (in days): \"))\n",
    "    repetitions = int(input(\"Enter the number of days you want to simulate: \"))\n",
    "    return n, m, initial_bed, p, k, repetitions\n",
    "\n",
    "def get_user_input_vaccines():\n",
    "    v = int(input(\"Enter the number of vaccines per day: \"))\n",
    "    return v\n",
    "\n",
    "def get_user_input_bedSwap():\n",
    "    bs = int(input(\"Enter the number of Bed Swaps you want to perform per day: \"))\n",
    "    return bs\n",
    "\n",
    "def get_user_input_incubation():\n",
    "    incu = int(input(\"Enter the duration of the incubation period (in days): \"))\n",
    "    return incu"
   ]
  },
  {
   "attachments": {},
   "cell_type": "markdown",
   "metadata": {},
   "source": [
    "In the main method the user is first asked which options he wants to configure, then all required parameters are requested from the user. When all parameters are received, the first grid is created. Then a list of grids is created and the first one is copied into the list. Then the spreading is simulated for each day and the newly obtained grids are added to the list. Finally, the list with all grids is displayed using the animation functions."
   ]
  },
  {
   "cell_type": "code",
   "execution_count": 17,
   "metadata": {},
   "outputs": [],
   "source": [
    "def main():\n",
    "    c = get_user_choice()\n",
    "    n, m, initial_bed, p, k, repetitions = get_user_input()\n",
    "    incu = 0\n",
    "    v = 0\n",
    "    bs = 0\n",
    "    \n",
    "    if c > 1:\n",
    "        v = get_user_input_vaccines()\n",
    "        if c > 2:\n",
    "            bs = get_user_input_bedSwap()\n",
    "            if c > 3:\n",
    "                incu = get_user_input_incubation()\n",
    "        \n",
    "\n",
    "    grid = initialize_grid(n, m, initial_bed, k, incu)\n",
    "    grid_list = [grid.copy()]\n",
    "    \n",
    "    for _ in range(repetitions):\n",
    "        grid = simulate_spread(grid, p, k, v, bs, incu)\n",
    "        grid_list.append(grid.copy())"
   ]
  },
  {
   "attachments": {},
   "cell_type": "markdown",
   "metadata": {},
   "source": [
    "## Some Simulations"
   ]
  }
 ],
 "metadata": {
  "kernelspec": {
   "display_name": "MySoft",
   "language": "python",
   "name": "python3"
  },
  "language_info": {
   "codemirror_mode": {
    "name": "ipython",
    "version": 3
   },
   "file_extension": ".py",
   "mimetype": "text/x-python",
   "name": "python",
   "nbconvert_exporter": "python",
   "pygments_lexer": "ipython3",
   "version": "3.11.2"
  },
  "orig_nbformat": 4
 },
 "nbformat": 4,
 "nbformat_minor": 2
}
