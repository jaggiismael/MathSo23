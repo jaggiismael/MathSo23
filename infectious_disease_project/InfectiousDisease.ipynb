{
 "cells": [
  {
   "attachments": {},
   "cell_type": "markdown",
   "metadata": {},
   "source": [
    "# Spread of an infectious disease\n",
    "<font color='red'>Start your report with a general introduction to the topic.</font>\n",
    "\n",
    "In the following, we will first explain the meaning of each variable. Then we will take a closer look at all the functions used to simulate the spreading. Next, we will explain how we have animated the simulation and finally we will show examples of how the simulation can be used properly.\n",
    "\n",
    "Explanation of the variable names:\n",
    "\n",
    "    c:              Choice of the user which simulations he wants\n",
    "    n:              Number of rows in the dormitory\n",
    "    m:              Number of columns in the dormitory\n",
    "    initial_bed:    Row and column of the initial bed with the disease\n",
    "    p:              Probability of an infection, between 0 and 1\n",
    "    k:              Duration of the illness in days\n",
    "    repetitions:    The number of days you want to simulate\n",
    "    v:              Number of people vaccinated per day\n",
    "    bs:             Number of beds swapped per day\n",
    "    incu:           Duration of the incubation period in days "
   ]
  },
  {
   "attachments": {},
   "cell_type": "markdown",
   "metadata": {},
   "source": [
    "## Cellular Automata\n",
    "In this section we will take a closer look at the different functions we use to simulate propagation. \n",
    "Each field in the grid can have a different value indicating the current status. The following statuses are used:\n",
    "\n",
    "    0:          Healthy\n",
    "    1:          Healed\n",
    "    -1:         Vaccinated\n",
    "    > 1:        Sick\n",
    "    > 1 + k:    Sick but not infectious (Incubation period)\n",
    "\n",
    "\n",
    "First we initialize the grid and the desired size and set all fields to 0. Then we set the desired initial bed to sick and return the new grid."
   ]
  },
  {
   "cell_type": "code",
   "execution_count": 5,
   "metadata": {},
   "outputs": [],
   "source": [
    "import numpy as np\n",
    "\n",
    "def initialize_grid(n, m, initial_bed, k, incu):\n",
    "    grid = np.zeros((n, m))\n",
    "    row, col = initial_bed\n",
    "    grid[row, col] = 1+k+incu\n",
    "    return grid"
   ]
  },
  {
   "attachments": {},
   "cell_type": "markdown",
   "metadata": {},
   "source": [
    "Next we have a function to find and return all neighbors of a bed. (top, bottom, left, right)"
   ]
  },
  {
   "cell_type": "code",
   "execution_count": 6,
   "metadata": {},
   "outputs": [],
   "source": [
    "def get_neighbors(grid, row, col):\n",
    "    n, m = grid.shape\n",
    "    neighbors = []\n",
    "    if row > 0:\n",
    "        neighbors.append((row - 1, col))  # Top neighbor\n",
    "    if row < n - 1:\n",
    "        neighbors.append((row + 1, col))  # Bottom neighbor\n",
    "    if col > 0:\n",
    "        neighbors.append((row, col - 1))  # Left neighbor\n",
    "    if col < m - 1:\n",
    "        neighbors.append((row, col + 1))  # Right neighbor\n",
    "    return neighbors"
   ]
  },
  {
   "attachments": {},
   "cell_type": "markdown",
   "metadata": {},
   "source": [
    "Now we start with the normal method to simulate the spread on one day. We show the evolution of this function and will add more features to the function with each step. As parameters we get the old grid, the probability of infection and the duration of the disease.\n",
    "First we ask for the size of the grid and make a copy. Then we go through each field individually using two for loops. Then we check if the current field is sick (value greater than 1), if yes we subtract one sick day and search for all neighbors. For each neighbor it is checked if it is still healthy (value is 0) and then a random number is generated. If the neighbor is healthy and the generated number is greater than the value p, the neighbor is infected (value 1 + duration of the disease). Finally the new grid is returned."
   ]
  },
  {
   "cell_type": "code",
   "execution_count": 7,
   "metadata": {},
   "outputs": [],
   "source": [
    "def simulate_spread_basic(grid, p, k):\n",
    "    n, m = grid.shape\n",
    "    new_grid = np.copy(grid)\n",
    "    for i in range(n):\n",
    "        for j in range(m):\n",
    "            if grid[i, j] > 1:  # Check if the bed is infected or already recovered\n",
    "                new_grid[i,j] -= 1               \n",
    "                for neighbor in get_neighbors(grid, i, j):\n",
    "                    if grid[neighbor] == 0 and np.random.rand() < p:\n",
    "                        new_grid[neighbor] = 1+k #set the neighbor ill                \n",
    "    return new_grid"
   ]
  },
  {
   "attachments": {},
   "cell_type": "markdown",
   "metadata": {},
   "source": [
    "Now we will add a function that can vaccinate a certain number of healthy people every day. After a vaccination, the respective bed can no longer be infected. The function has two parameters, the number of people to vaccinate and the grid. \n",
    "A while loop is used to generate random numbers and try to vaccinate them. When enough vaccinations have been distributed, the new grid is returned."
   ]
  },
  {
   "cell_type": "code",
   "execution_count": 9,
   "metadata": {},
   "outputs": [],
   "source": [
    "def vaccinate(v, new_grid):\n",
    "    n, m = new_grid.shape\n",
    "    vaccinated = 0\n",
    "    while(vaccinated < v):\n",
    "        randi = np.random.randint(0,n-1)\n",
    "        randj = np.random.randint(0, m-1)\n",
    "        if new_grid[randi, randj] == 0:\n",
    "            new_grid[randi, randj] = -1\n",
    "            vaccinated += 1\n",
    "\n",
    "    return new_grid"
   ]
  },
  {
   "attachments": {},
   "cell_type": "markdown",
   "metadata": {},
   "source": [
    "Now we will add a function that will swap a certain number of beds with each other every day. The function has two parameters, the number of beds to swap and the grid. \n",
    "A While loop is used to generate random numbers to select two beds. Then the values of the two beds are exchanged. When enough beds have been swapped, the new grid is returned."
   ]
  },
  {
   "cell_type": "code",
   "execution_count": 10,
   "metadata": {},
   "outputs": [],
   "source": [
    "def bed_swap(bs, new_grid):\n",
    "    n, m = new_grid.shape\n",
    "    bedsSwaped = 0\n",
    "    while(bedsSwaped < bs):\n",
    "        randi1 = np.random.randint(0,n-1)\n",
    "        randj1 = np.random.randint(0, m-1)\n",
    "        randi2 = np.random.randint(0,n-1)\n",
    "        randj2 = np.random.randint(0, m-1)\n",
    "        tmpVal = new_grid[randi1, randj1]\n",
    "        new_grid[randi1, randj1] = new_grid[randi2, randj2]\n",
    "        new_grid[randi2, randj2] = tmpVal\n",
    "        bedsSwaped += 1\n",
    "\n",
    "    return new_grid"
   ]
  },
  {
   "attachments": {},
   "cell_type": "markdown",
   "metadata": {},
   "source": [
    "Ganze Funktion\n",
    "\n",
    "The first part of the function remains almost the same, with the difference that it counts how many healthy beds are left. \n",
    "Then it checks if there are enough healthy beds left to vaccinate. If not, the value of beds to vaccinate is decreased."
   ]
  }
 ],
 "metadata": {
  "kernelspec": {
   "display_name": "MySoft",
   "language": "python",
   "name": "python3"
  },
  "language_info": {
   "codemirror_mode": {
    "name": "ipython",
    "version": 3
   },
   "file_extension": ".py",
   "mimetype": "text/x-python",
   "name": "python",
   "nbconvert_exporter": "python",
   "pygments_lexer": "ipython3",
   "version": "3.11.2"
  },
  "orig_nbformat": 4
 },
 "nbformat": 4,
 "nbformat_minor": 2
}
