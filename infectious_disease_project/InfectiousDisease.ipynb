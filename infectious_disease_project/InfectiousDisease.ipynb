{
 "cells": [
  {
   "attachments": {},
   "cell_type": "markdown",
   "metadata": {},
   "source": [
    "# Spread of an infectious disease\n",
    "In our project, we are looking at the spread of a contagious disease in an enclosed space. In this room there are a predefined number of beds with patients in them. First, a patient is infected. The patient can infect the other patients on each side of his bed. Now it can be simulated over an arbitrary period of time how the disease spreads. It is possible to change the conditions of spreading with the help of different parameters. Among other things, the size of the room, the probability of infection or the bed of the first infected person can be changed. It is also possible to include other things in the simulation. For example, it is possible to vaccinate patients or move beds every day. In the following we will go into more detail about each part of the program and at the end we will show some examples of its use.\n",
    "In the following, we will first explain the meaning of each variable. Then we will take a closer look at all the functions used to simulate the spreading. Next, we will explain how we have animated the simulation and finally we will show examples of how the simulation can be used properly.\n",
    "\n",
    "Explanation of the variable names:\n",
    "\n",
    "    c:              Choice of the user which simulations he wants\n",
    "    n:              Number of rows in the dormitory\n",
    "    m:              Number of columns in the dormitory\n",
    "    initial_bed:    Row and column of the initial bed with the disease\n",
    "    p:              Probability of an infection, between 0 and 1\n",
    "    k:              Duration of the illness in days\n",
    "    repetitions:    The number of days you want to simulate\n",
    "    v:              Number of people vaccinated per day\n",
    "    bs:             Number of beds swapped per day\n",
    "    incu:           Duration of the incubation period in days "
   ]
  },
  {
   "attachments": {},
   "cell_type": "markdown",
   "metadata": {},
   "source": [
    "## Cellular Automata\n",
    "In this section we will take a closer look at the different functions we use to simulate the spreading. \n",
    "Each field in the grid can have a different value indicating the current status. The following statuses are used:\n",
    "\n",
    "    0:          Healthy\n",
    "    1:          Healed\n",
    "    -1:         Vaccinated\n",
    "    > 1:        Sick\n",
    "    > 1 + k:    Sick but not infectious (Incubation period)\n",
    "\n",
    "\n",
    "First we initialize the grid and the desired size and set all fields to 0. Then we set the desired initial bed to sick and return the new grid."
   ]
  },
  {
   "cell_type": "code",
   "execution_count": 74,
   "metadata": {},
   "outputs": [],
   "source": [
    "import numpy as np\n",
    "import random\n",
    "\n",
    "def initialize_grid(n, m, initial_bed, k, incu):\n",
    "    grid = np.zeros((n, m))\n",
    "    row, col = initial_bed\n",
    "    grid[row, col] = 1+k+incu\n",
    "    return grid"
   ]
  },
  {
   "attachments": {},
   "cell_type": "markdown",
   "metadata": {},
   "source": [
    "Next we have a function to find and return all neighbors of a bed. (top, bottom, left, right)"
   ]
  },
  {
   "cell_type": "code",
   "execution_count": 75,
   "metadata": {},
   "outputs": [],
   "source": [
    "def get_neighbors(grid, row, col):\n",
    "    n, m = grid.shape\n",
    "    neighbors = []\n",
    "    if row > 0:\n",
    "        neighbors.append((row - 1, col))  # Top neighbor\n",
    "    if row < n - 1:\n",
    "        neighbors.append((row + 1, col))  # Bottom neighbor\n",
    "    if col > 0:\n",
    "        neighbors.append((row, col - 1))  # Left neighbor\n",
    "    if col < m - 1:\n",
    "        neighbors.append((row, col + 1))  # Right neighbor\n",
    "    return neighbors"
   ]
  },
  {
   "attachments": {},
   "cell_type": "markdown",
   "metadata": {},
   "source": [
    "Now we start with the normal method to simulate the spread on one day. We show the evolution of this function and will add more features to the function with each step. As parameters we get the old grid, the probability of infection and the duration of the disease.\n",
    "First we ask for the size of the grid and make a copy. Then we go through each field individually using two for loops. Then we check if the current field is sick (value greater than 1), if yes we subtract one sick day and search for all neighbors. For each neighbor it is checked if it is still healthy (value is 0) and then a random number is generated. If the neighbor is healthy and the generated number is greater than the value p, the neighbor is infected (value 1 + duration of the disease). Finally the new grid is returned."
   ]
  },
  {
   "cell_type": "code",
   "execution_count": 76,
   "metadata": {},
   "outputs": [],
   "source": [
    "def simulate_spread_basic(grid, p, k):\n",
    "    n, m = grid.shape\n",
    "    new_grid = np.copy(grid)\n",
    "    for i in range(n):\n",
    "        for j in range(m):\n",
    "            if grid[i, j] > 1:  # Check if the bed is infected or already recovered\n",
    "                new_grid[i,j] -= 1               \n",
    "                for neighbor in get_neighbors(grid, i, j):\n",
    "                    if grid[neighbor] == 0 and random.uniform(0, 1) < p:\n",
    "                        new_grid[neighbor] = 1+k #set the neighbor ill                \n",
    "    return new_grid"
   ]
  },
  {
   "attachments": {},
   "cell_type": "markdown",
   "metadata": {},
   "source": [
    "Now we will add a function that can vaccinate a certain number of healthy people every day. After a vaccination, the respective bed can no longer be infected. The function has two parameters, the number of people to vaccinate and the grid. \n",
    "A while loop is used to generate random numbers and try to vaccinate them. When enough vaccinations have been distributed, the new grid is returned."
   ]
  },
  {
   "cell_type": "code",
   "execution_count": 77,
   "metadata": {},
   "outputs": [],
   "source": [
    "def vaccinate(v, new_grid):\n",
    "    n, m = new_grid.shape\n",
    "    vaccinated = 0\n",
    "    while(vaccinated < v):\n",
    "        randi = random.randint(0,n-1)\n",
    "        randj = random.randint(0, m-1)\n",
    "        if new_grid[randi, randj] == 0:\n",
    "            new_grid[randi, randj] = -1\n",
    "            vaccinated += 1\n",
    "\n",
    "    return new_grid"
   ]
  },
  {
   "attachments": {},
   "cell_type": "markdown",
   "metadata": {},
   "source": [
    "Now we will add a function that will swap a certain number of beds with each other every day. The function has two parameters, the number of beds to swap and the grid. \n",
    "A While loop is used to generate random numbers to select two beds. Then the values of the two beds are exchanged. When enough beds have been swapped, the new grid is returned."
   ]
  },
  {
   "cell_type": "code",
   "execution_count": 78,
   "metadata": {},
   "outputs": [],
   "source": [
    "def bed_swap(bs, new_grid):\n",
    "    n, m = new_grid.shape\n",
    "    bedsSwaped = 0\n",
    "    while(bedsSwaped < bs):\n",
    "        randi1 = random.randint(0,n-1)\n",
    "        randj1 = random.randint(0, m-1)\n",
    "        randi2 = random.randint(0,n-1)\n",
    "        randj2 = random.randint(0, m-1)\n",
    "        tmpVal = new_grid[randi1, randj1]\n",
    "        new_grid[randi1, randj1] = new_grid[randi2, randj2]\n",
    "        new_grid[randi2, randj2] = tmpVal\n",
    "        bedsSwaped += 1\n",
    "\n",
    "    return new_grid"
   ]
  },
  {
   "attachments": {},
   "cell_type": "markdown",
   "metadata": {},
   "source": [
    "### Final Function\n",
    "In the final function a parameter is added (incu = The incubation period). The first part of the function remains almost unchanged, with the difference that now it is counted how many healthy beds are left. In addition, before the neighbors of a sick bed can be infected, it is checked if the incubation period is over and if a bed is infected, the incubation period is also added to the value.\n",
    "Then a check is made to see if there are enough healthy beds left to vaccinate. If not, the value of the beds to be vaccinated is decreased.\n",
    "Then, if necessary, the two functions to vaccinate and swap beds are called and finally the new grid is returned."
   ]
  },
  {
   "cell_type": "code",
   "execution_count": 79,
   "metadata": {},
   "outputs": [],
   "source": [
    "def simulate_spread(grid, p, k, v, bs, incu):\n",
    "    n, m = grid.shape\n",
    "    uninfectedBeds = 0\n",
    "    new_grid = np.copy(grid)\n",
    "    for i in range(n):\n",
    "        for j in range(m):\n",
    "            if grid[i, j] == 0:\n",
    "                uninfectedBeds += 1\n",
    "            if grid[i, j] > 1:  # Check if the bed is infected or already recovered\n",
    "                new_grid[i,j] -= 1               \n",
    "                for neighbor in get_neighbors(grid, i, j):\n",
    "                    if new_grid[i,j] <= 1+k:        #check if incubation time is over\n",
    "                        if grid[neighbor] == 0 and random.uniform(0, 1) < p:\n",
    "                            new_grid[neighbor] = 1+k+incu #set the neighbor ill  \n",
    "                            uninfectedBeds -= 1 \n",
    "    \n",
    "    if uninfectedBeds < v:\n",
    "        v = uninfectedBeds\n",
    "\n",
    "    if v > 0:\n",
    "        new_grid = vaccinate(v, new_grid)\n",
    "\n",
    "    if bs > 0:\n",
    "        new_grid = bed_swap(bs, new_grid)\n",
    "    \n",
    "    return new_grid\n"
   ]
  },
  {
   "attachments": {},
   "cell_type": "markdown",
   "metadata": {},
   "source": [
    "## Animation\n",
    "\n",
    "\n",
    "This section will present you how we manage to show, animate and save the results we calculated within three different methods. The first one is an animation graph, which is showing day by day the spread of the grid. The color representation will be explained below with the simulation. Then, we have the second animation which is a graph representing day by day the evolution of the disease, it allowes us to analyse better what we see and how the thing is doing. The last animation is not as useful as the first two, but we included it because it was interesting to try. It is a 3d representation of the first animation, the Y value is now the number of days that are left for the person to heal. \n",
    "\n",
    "Here is the first function that makes the 2d representation :"
   ]
  },
  {
   "cell_type": "code",
   "execution_count": 80,
   "metadata": {},
   "outputs": [],
   "source": [
    "import numpy as np\n",
    "import matplotlib.pyplot as plt\n",
    "from matplotlib import colors\n",
    "import matplotlib.animation as animation\n",
    "from mpl_toolkits.mplot3d import Axes3D\n",
    "import matplotlib.pyplot as plt\n",
    "\n",
    "\n",
    "def generate_animation(grid_list, save_path='animation.mp4'):\n",
    "    # Check for NaN and infinity values in grid_list and replace them with 0\n",
    "    grid_list = [np.where(np.isnan(grid) | np.isinf(grid), 0, grid) for grid in grid_list]\n",
    "\n",
    "    # Define custom colormap\n",
    "    cmap = colors.ListedColormap(['Yellow', 'Grey', 'Green', 'Red'])\n",
    "\n",
    "    # Define the color boundaries\n",
    "    bounds = [-1.5, -0.5, 0.5, 1.5, 1e10]  # Replace np.inf with a large number\n",
    "    norm = colors.BoundaryNorm(bounds, cmap.N)\n",
    "\n",
    "    # Create the figure and axis\n",
    "    fig, ax = plt.subplots(figsize=(8, 6))\n",
    "\n",
    "    # Initialize the image with the first grid_array\n",
    "    img = ax.imshow(grid_list[0], cmap=cmap, norm=norm)\n",
    "    plt.colorbar(img, ticks=[-1, 0, 1, 2], ax=ax, extend='both')  # Update the colorbar function\n",
    "    plt.title(\"Grid Array Visualization\")\n",
    "\n",
    "    # Update function for the animation\n",
    "    def update(frame):\n",
    "        img.set_array(frame)\n",
    "        return [img]\n",
    "\n",
    "    # Create the animation\n",
    "    anim = animation.FuncAnimation(fig, update, frames=grid_list, interval=500, blit=True)\n",
    "\n",
    "    # Save the animation\n",
    "    writer = animation.FFMpegWriter(fps=20, metadata=dict(artist='Me'), bitrate=1800)\n",
    "    anim.save(save_path, writer=writer)\n",
    "\n",
    "\n",
    "    # Show the animation\n",
    "    plt.show()"
   ]
  },
  {
   "attachments": {},
   "cell_type": "markdown",
   "metadata": {},
   "source": [
    "Next, we have the line plot representation : "
   ]
  },
  {
   "cell_type": "code",
   "execution_count": 81,
   "metadata": {},
   "outputs": [],
   "source": [
    "def plot_recurrence(grid_list):\n",
    "    # Count the recurrence of each number in each grid\n",
    "    recurrence_counts = []\n",
    "    for grid in grid_list:\n",
    "        unique, counts = np.unique(grid, return_counts=True)\n",
    "        recurrence_counts.append(dict(zip(unique, counts)))\n",
    "\n",
    "    # Create a line chart\n",
    "    fig, ax = plt.subplots(figsize=(8, 6))\n",
    "\n",
    "    # Define the number-label mapping\n",
    "    number_label_mapping = {-1: \"Vaccinated\", 0: \"Not concerned\", 1: \"Healthy\"}\n",
    "\n",
    "    for number, label in number_label_mapping.items():\n",
    "        count_list = [recurrence[number] if number in recurrence else 0 for recurrence in recurrence_counts]\n",
    "        ax.plot(count_list, label=label)\n",
    "\n",
    "    # Handle the case for numbers less than 1\n",
    "    count_list = [sum(recurrence[number] for number in recurrence if number > 1) for recurrence in recurrence_counts]\n",
    "    ax.plot(count_list, label=\"Ill\")\n",
    "\n",
    "    ax.set_xlabel('Days')\n",
    "    ax.set_ylabel('Number of people')\n",
    "    ax.set_title('Population State')\n",
    "    ax.legend()\n",
    "\n",
    "    plt.show()"
   ]
  },
  {
   "attachments": {},
   "cell_type": "markdown",
   "metadata": {},
   "source": [
    "And finally, the \"useless\" graph, which is the 3d representation of the first graph : "
   ]
  },
  {
   "cell_type": "code",
   "execution_count": 82,
   "metadata": {},
   "outputs": [],
   "source": [
    "def generate_3d_animation(grid_list):\n",
    "    # Check for NaN and infinity values in grid_list and replace them with 0\n",
    "    grid_list = [np.where(np.isnan(grid) | np.isinf(grid), 0, grid) for grid in grid_list]\n",
    "\n",
    "    # Define custom colormap\n",
    "    cmap = colors.ListedColormap(['Yellow', 'Grey', 'Green', 'Red'])\n",
    "\n",
    "    # Define the color boundaries\n",
    "    bounds = [-1.5, -0.5, 0.5, 1.5, 1e10]  # Replace np.inf with a large number\n",
    "    norm = colors.BoundaryNorm(bounds, cmap.N)\n",
    "\n",
    "    # Create the figure\n",
    "    fig = plt.figure(figsize=(8, 6))\n",
    "\n",
    "    # Create the 3D axis\n",
    "    ax = fig.add_subplot(111, projection='3d')\n",
    "\n",
    "    # Get the X, Y coordinates for the grid\n",
    "    X, Y = np.meshgrid(np.arange(grid_list[0].shape[1]), np.arange(grid_list[0].shape[0]))\n",
    "\n",
    "    # Initialize the surface plot with the first grid_array\n",
    "    Z = grid_list[0]\n",
    "    colors_array = cmap(norm(Z.flatten())).reshape(Z.shape + (4,))\n",
    "    surf = ax.plot_surface(X, Y, Z, facecolors=colors_array, rstride=1, cstride=1)\n",
    "\n",
    "    plt.title(\"Grid Array Visualization (3D)\")\n",
    "\n",
    "    # Update function for the animation\n",
    "    def update(frame):\n",
    "        ax.clear()\n",
    "        Z = frame\n",
    "        colors_array = cmap(norm(Z.flatten())).reshape(Z.shape + (4,))\n",
    "        surf = ax.plot_surface(X, Y, Z, facecolors=colors_array, rstride=1, cstride=1)\n",
    "        return [surf]\n",
    "\n",
    "    # Create the animation\n",
    "    anim = animation.FuncAnimation(fig, update, frames=grid_list, interval=500, blit=False)\n",
    "\n",
    "    # Show the animation\n",
    "    plt.show()"
   ]
  },
  {
   "attachments": {},
   "cell_type": "markdown",
   "metadata": {},
   "source": [
    "## User Input\n",
    "In this section we show the user input and the main method. The following five functions are pure user input and therefore we will not explain them in detail. The first function lets the user decide whether to simulate the normal spreading or to use the additional options. The second one asks for all the parameters that are always needed and the last three are called if you want to set the other options as well. "
   ]
  },
  {
   "cell_type": "code",
   "execution_count": 83,
   "metadata": {},
   "outputs": [],
   "source": [
    "def get_user_choice():\n",
    "    c = int(input(\"Enter the number of your choice:\\n1: Normal Execute\\n2: Add Vaccination\\n3: Add Bed Swap\\n4: Add Incubation Period \"))\n",
    "    return c\n",
    "\n",
    "def get_user_input():\n",
    "    n = int(input(\"Enter the number of rows in the dormitory: \"))\n",
    "    m = int(input(\"Enter the number of columns in the dormitory: \"))\n",
    "    initial_bed = input(\"Enter the initial infected bed position (in the format 'row,column'): \")\n",
    "    initial_bed = tuple(map(int, initial_bed.split(',')))\n",
    "    p = float(input(\"Enter the probability of infection (0 < p < 1): \"))\n",
    "    k = int(input(\"Enter the duration of the disease (in days): \"))\n",
    "    repetitions = int(input(\"Enter the number of days you want to simulate: \"))\n",
    "    return n, m, initial_bed, p, k, repetitions\n",
    "\n",
    "def get_user_input_vaccines():\n",
    "    v = int(input(\"Enter the number of vaccines per day: \"))\n",
    "    return v\n",
    "\n",
    "def get_user_input_bedSwap():\n",
    "    bs = int(input(\"Enter the number of Bed Swaps you want to perform per day: \"))\n",
    "    return bs\n",
    "\n",
    "def get_user_input_incubation():\n",
    "    incu = int(input(\"Enter the duration of the incubation period (in days): \"))\n",
    "    return incu"
   ]
  },
  {
   "attachments": {},
   "cell_type": "markdown",
   "metadata": {},
   "source": [
    "In the main method the user is first asked which options he wants to configure, then all required parameters are requested from the user. When all parameters are received, the first grid is created. Then a list of grids is created and the first one is copied into the list. Then the spreading is simulated for each day and the newly obtained grids are added to the list. Finally, the list with all grids is displayed using the animation functions."
   ]
  },
  {
   "cell_type": "code",
   "execution_count": 84,
   "metadata": {},
   "outputs": [],
   "source": [
    "def main():\n",
    "    c = get_user_choice()\n",
    "    n, m, initial_bed, p, k, repetitions = get_user_input()\n",
    "    incu = 0\n",
    "    v = 0\n",
    "    bs = 0\n",
    "    \n",
    "    if c > 1:\n",
    "        v = get_user_input_vaccines()\n",
    "        if c > 2:\n",
    "            bs = get_user_input_bedSwap()\n",
    "            if c > 3:\n",
    "                incu = get_user_input_incubation()\n",
    "        \n",
    "\n",
    "    grid = initialize_grid(n, m, initial_bed, k, incu)\n",
    "    grid_list = [grid.copy()]\n",
    "    \n",
    "    for _ in range(repetitions):\n",
    "        grid = simulate_spread(grid, p, k, v, bs, incu)\n",
    "        grid_list.append(grid.copy())\n",
    "\n",
    "    generate_animation(grid_list)\n",
    "    plot_recurrence(grid_list)\n",
    "    generate_3d_animation(grid_list)"
   ]
  },
  {
   "attachments": {},
   "cell_type": "markdown",
   "metadata": {},
   "source": [
    "## Simulations\n",
    "\n",
    "This section will show what we can do with our application. In order to show what is possible, we will tweak and play with every parameters. with this, we will be able to see what is the impact of each parameter on the disease and its spread. \n",
    "<br>\n",
    "<br>\n",
    "\n",
    "Here is the color code that appear on every video : <br>\n",
    "    - <text style=\"color:grey;\"><strong>Grey</strong></text> = untouched population<br>\n",
    "    - <text style=\"color:red;\"><strong>Red</strong></text> = ill population, only them can spread the disease<br>\n",
    "    - <text style=\"color:green;\"><strong>Green</strong></text> = immune population, the people that had the disease and are now healthy<br>\n",
    "    - <text style=\"color:yellow;\"><strong>Yellow</strong></text> = vaccined part of the population. They are immune to the disease and therfore cannot spread<br>\n"
   ]
  },
  {
   "attachments": {},
   "cell_type": "markdown",
   "metadata": {},
   "source": [
    "## 1. Normal spreading"
   ]
  },
  {
   "attachments": {},
   "cell_type": "markdown",
   "metadata": {},
   "source": [
    "\n",
    "<h4><strong>Simulation with 20% chance of spreading</strong></h4>\n",
    "<text><strong>100x100</strong> beds -- starting bed <strong>50,50</strong> -- <strong>10</strong> days disease duration -- <strong>200</strong> days simulation\n",
    "<br>\n",
    "<br>\n",
    "<br>\n",
    "<div style=\"display: flex; align-items: center;\">\n",
    "    <div style=\"flex: 1;\">\n",
    "        <video src=\"videos/1_low_spread.mp4\" controls title=\"Title\" style=\"width: 600px; height: 450px;\"></video>\n",
    "    </div>\n",
    "    <div style=\"flex: 1;\">\n",
    "        <img src=\"images/1_low_spread.png\" alt=\"Image\" style=\"width: 600px; height: 450px;\">\n",
    "    </div>\n",
    "</div>\n",
    "<br>\n",
    "<br>\n",
    "<br>\n",
    "<text>As we can see with this first simulation, the peak of the ill persons arrive after around 135 days. After 123 days, there are more people that are concerned about the illness than persons untouched.</text>\n",
    "<br>\n",
    "<br>\n",
    "<text>The spreading factor will only accelerate the things. If we put the spreading percentage higher, there will be a bigger peak of ill persons. This peak will also arrive faster. The day that represent this : people not concerned < ill persons will also arrive sooner. </text>"
   ]
  },
  {
   "attachments": {},
   "cell_type": "markdown",
   "metadata": {},
   "source": [
    "<h4><strong>Simulation with 90% chance of spreading</strong></h4>\n",
    "<text><strong>100x100</strong> beds -- starting bed <strong>50,50</strong> -- <strong>10</strong> days disease duration -- <strong>200</strong> days simulation\n",
    "<br>\n",
    "<br>\n",
    "<br>\n",
    "<div style=\"display: flex; align-items: center;\">\n",
    "    <div style=\"flex: 1;\">\n",
    "        <video src=\"videos/1_high_spread.mp4\" controls title=\"Title\" style=\"width: 600px; height: 450px;\"></video>\n",
    "    </div>\n",
    "    <div style=\"flex: 1;\">\n",
    "        <img src=\"images/1_high_spread.png\" alt=\"Image\" style=\"width: 600px; height: 450px;\">\n",
    "    </div>\n",
    "</div>\n",
    "<br>\n",
    "<br>\n",
    "<br>\n",
    "<text>As we can see with this second simulation, the peak of the ill persons arrive way sooner, around 50 days. And after the same time, there are more people that are concerned by this desease than persons that are not. </text>\n",
    "<br>\n",
    "<br>\n",
    "<text>If the spreading factor is smaller than the recovery time, we can have a scenario where the people heal faster than the disease spread. We could even see that in this scenario, the disease don't survive and some people will never know about the disease. Here is an example :</text>"
   ]
  },
  {
   "attachments": {},
   "cell_type": "markdown",
   "metadata": {},
   "source": [
    "<h4><strong>Simulation where the spreading is unefficient enough to contamine everybody : 7% chance of spreading</strong></h4>\n",
    "<text><strong>100x100</strong> beds -- starting bed <strong>50,50</strong> -- <strong>10</strong> days disease duration -- <strong>200</strong> days simulation\n",
    "<br>\n",
    "<br>\n",
    "<br>\n",
    "<div style=\"display: flex; align-items: center;\">\n",
    "    <div style=\"flex: 1;\">\n",
    "        <video src=\"videos/1_unefficient_spread.mp4\" controls title=\"Title\" style=\"width: 600px; height: 450px;\"></video>\n",
    "    </div>\n",
    "    <div style=\"flex: 1;\">\n",
    "        <img src=\"images/1_unefficient_spread.png\" alt=\"Image\" style=\"width: 600px; height: 450px;\">\n",
    "    </div>\n",
    "</div>\n"
   ]
  },
  {
   "attachments": {},
   "cell_type": "markdown",
   "metadata": {},
   "source": [
    "## 2. Vaccination\n",
    "\n",
    "Now introducing the vaccination system. The vaccination is a parameter that we can change in order to vaccinate x NON ALREADY INFECTED persons per day. The vaccinated people will reduce the spread as they can't get infected. The people that are vaccinated will appear as yellow dots on the video. \n",
    "\n",
    "For this example, we will compare with the first video, with a spread of 20% chance.\n",
    "In a grid of 100 by 100, there are 10'000 persons to vaccinate. So if we vaccinate 10 persons per day, at the end of the 200 days, 20% of the population will be vaccinated.\n"
   ]
  },
  {
   "attachments": {},
   "cell_type": "markdown",
   "metadata": {},
   "source": [
    "<h4><strong>Simulation with 30 vaccinated persons per day</strong></h4>\n",
    "<text><strong>100x100</strong> beds -- starting bed <strong>50,50</strong> -- <strong>10</strong> days disease duration -- <strong>200</strong> days simulation -- <strong>90%</strong> chances of spreading</text>\n",
    "<br>\n",
    "<br>\n",
    "<br>\n",
    "<div style=\"display: flex; align-items: center;\">\n",
    "    <div style=\"flex: 1;\">\n",
    "        <video src=\"videos/2_vaccine_spread.mp4\" controls title=\"Title\" style=\"width: 600px; height: 450px;\"></video>\n",
    "    </div>\n",
    "    <div style=\"flex: 1;\">\n",
    "        <img src=\"images/2_vaccine_spread.png\" alt=\"Image\" style=\"width: 600px; height: 450px;\">\n",
    "    </div>\n",
    "</div>\n",
    "<br>\n",
    "<br>\n",
    "<br>\n",
    "<text>The first thing we can say about vaccination is that it is really efficient. On 10'000 people, we decided to vaccinate only 30 persons a day. I know it is easy maths once you see it, but after only 100 days, 30% of the population is vaccinated and therefore cannot spread the disease further.</text>\n",
    "<br>\n",
    "<br>\n",
    "<text>The second thing is that in this scenario, it didn't appear to really \"slow\" the spread. But it makes people being healthy 30% faster. Also, we can see that the vaccine is more and more efficient day by day. In the first day, we vaccine 30ppl out of 10'000, which correspond of only 0.3% of the population. But in the final days, because the spreading space is a fixed rectangle, we vaccine 30 people out of 500, which correspond to 6%. And this goes higher and higher until that the number of vaccines per day > the number of new person ill. Which is the reason why we have only vaccinated people on the edge of the map.</text>"
   ]
  },
  {
   "attachments": {},
   "cell_type": "markdown",
   "metadata": {},
   "source": [
    "## 3. Swap beds\n",
    "\n",
    "Now introducing the swap beds. Naturally, this parameter does affect the speed of the spread a lot as it makes the spread \"teleport\" in random locations of the map. In order to see how fast it is, we will compare it to the first simple spread of 20% chance, without any vaccination. Normally, the peak of ill people should be higher and the people concerned should be faster.\n"
   ]
  },
  {
   "attachments": {},
   "cell_type": "markdown",
   "metadata": {},
   "source": [
    "<h4><strong>Simulation with 3 swaps per day</strong></h4>\n",
    "<text><strong>100x100</strong> beds -- starting bed <strong>50,50</strong> -- <strong>10</strong> days disease duration -- <strong>200</strong> days simulation -- <strong>20%</strong> chances of spreading</text>\n",
    "<br>\n",
    "<br>\n",
    "<br>\n",
    "<div style=\"display: flex; align-items: center;\">\n",
    "    <div style=\"flex: 1;\">\n",
    "        <video src=\"videos/3_swap_beds.mp4\" controls title=\"Title\" style=\"width: 600px; height: 450px;\"></video>\n",
    "    </div>\n",
    "    <div style=\"flex: 1;\">\n",
    "        <img src=\"images/3_swap_beds.png\" alt=\"Image\" style=\"width: 600px; height: 450px;\">\n",
    "    </div>\n",
    "</div>\n",
    "<br>\n",
    "<br>\n",
    "<br>\n",
    "<text>We can see that the spread does go really faster. The concerned people become higher than the not concerned people after only 85 days, compared to 120 days with the similar spread without bed swaps. Also, the peak of people being ill at the same time went from 1000 to almost 1800. This can explain why people from around the world, during covid times, were limiting and paying a lot of attention with travelling by plane or travelling from cities to other cities. In Switzerland, they ban the transfer from people houses to their secondary houses or chalet during weeks.</text>\n",
    "<br>\n",
    "<br>\n",
    "<text>In fact, the spread goes so fast in so many random directions that we can see that, sometimes, some lucky people are surrounded by ill people becoming healthy with various days of healthiness, which create a \"shield\" around them and therefore causing randomly grey dots everywhere.</text>"
   ]
  },
  {
   "attachments": {},
   "cell_type": "markdown",
   "metadata": {},
   "source": [
    "## 4. Incubation period\n",
    "\n",
    "The incubation period of a disease refers to the time between exposure to the pathogen and the onset of symptoms. It is during this period that the pathogen is replicating in the host's body. The duration of the incubation period can vary widely depending on the disease, ranging from a few days to several years.\n",
    "<br>\n",
    "<br>\n",
    "Understanding the incubation period helps in identifying the time of infection and making decisions regarding disease control. For example, during the COVID-19 pandemic, knowing that the incubation period is around 2 to 14 days has led to recommendations for self-quarantine for at least 14 days for individuals who may have been exposed to the virus. This helps prevent further transmission of the disease."
   ]
  },
  {
   "attachments": {},
   "cell_type": "markdown",
   "metadata": {},
   "source": [
    "<h4><strong>Simulation with an incubation period of 5 days</strong></h4>\n",
    "<text><strong>100x100</strong> beds -- starting bed <strong>50,50</strong> -- <strong>10</strong> days disease duration -- <strong>300</strong> days simulation -- <strong>20%</strong> chances of spreading -- <strong>3</strong> swap bed involved per day -- <strong>NO</strong> vaccination involved</text>\n",
    "<br>\n",
    "<br>\n",
    "<br>\n",
    "<div style=\"display: flex; align-items: center;\">\n",
    "    <div style=\"flex: 1;\">\n",
    "        <video src=\"videos/4_incubation_period.mp4\" controls title=\"Title\" style=\"width: 600px; height: 450px;\"></video>\n",
    "    </div>\n",
    "    <div style=\"flex: 1;\">\n",
    "        <img src=\"images/4_incubation_period.png\" alt=\"Image\" style=\"width: 600px; height: 450px;\">\n",
    "    </div>\n",
    "</div>\n",
    "<br>\n",
    "<br>\n",
    "<br>\n",
    "<text>We knew that the incubation would slow the process, but we never thought that it would slow it this much. In this simulation, we took exactly the same parameters that the swap beds one and added only 5 incubation days. And the results are really changing. The % of concerned people is more than 50% after 225 days compared to 85 without the incubation. That is a +265% ratio.</text>\n",
    "<br>\n",
    "<br>\n",
    "<text>Regarding the peak of people ill at the same time, it went from 1800 to 1000, which is kind of like the first simulations without bed swap.</text>"
   ]
  },
  {
   "attachments": {},
   "cell_type": "markdown",
   "metadata": {},
   "source": [
    "## Conclusion\n",
    "In this project, we learned a lot about the spread of disease. At the beginning, we thought that it was very easy to predict the spread. But as we wrote the first function with the probability of infection and room size, we quickly realized that things that didn't matter in our minds at first can make a huge difference. As we refined the function and added the ability to vaccinate people and swap beds, the simulation became more and more realistic. Adding the incubation period made a much bigger difference than we thought at the beginning.\n",
    "\n",
    "Then, after we finished the simulation function and we could see the different spreads with the help of the animations, we started to play with different values. Now, for example, in the corona pandemic, we understand the role of lockdown much more clearly, because if we don't exchange beds, the disease spreads much less quickly and is easier to contain. The importance of vaccination has also been demonstrated in our simulation. Because you manage to protect many people from infection and thus they can not infect other people.\n",
    "\n",
    "Finally, we can say that we were very satisfied with our topic and really enjoyed the simulation. We have made many new exciting discoveries and have also learned a new programming language. The cooperation worked wonderfully and we are very satisfied with the result of our work.\n"
   ]
  }
 ],
 "metadata": {
  "kernelspec": {
   "display_name": "MySoft",
   "language": "python",
   "name": "python3"
  },
  "language_info": {
   "codemirror_mode": {
    "name": "ipython",
    "version": 3
   },
   "file_extension": ".py",
   "mimetype": "text/x-python",
   "name": "python",
   "nbconvert_exporter": "python",
   "pygments_lexer": "ipython3",
   "version": "3.11.2"
  },
  "orig_nbformat": 4
 },
 "nbformat": 4,
 "nbformat_minor": 2
}
